{
 "cells": [
  {
   "cell_type": "code",
   "execution_count": 2,
   "metadata": {},
   "outputs": [],
   "source": [
    "import pandas as pd"
   ]
  },
  {
   "cell_type": "code",
   "execution_count": 3,
   "metadata": {},
   "outputs": [],
   "source": [
    "data = pd.read_csv(\"Dataset.csv\")"
   ]
  },
  {
   "cell_type": "code",
   "execution_count": 4,
   "metadata": {},
   "outputs": [
    {
     "output_type": "execute_result",
     "data": {
      "text/plain": [
       "   Qa  Qb  Qc  Qd  Qe  Qf  Qg  Qh  Qi  Qj  Qk  Ql  Qm  Qn  Qo  target\n",
       "0   6  10  10   9   9  10   8   6   4   8   4   6   1   4   6       1\n",
       "1  10   5   5   3   4   9   7   9   3   8   1   4   2   8   5       0\n",
       "2   3   1   5   8   2   9   7   9   2  10   1   3   5   3   9       0\n",
       "3   5   7   8  10   5   9   8   1   8   8  10   6   5   5   9       1\n",
       "4   4   7   7   9   8   5   7   2   6   7   6  10  10   5   4       1"
      ],
      "text/html": "<div>\n<style scoped>\n    .dataframe tbody tr th:only-of-type {\n        vertical-align: middle;\n    }\n\n    .dataframe tbody tr th {\n        vertical-align: top;\n    }\n\n    .dataframe thead th {\n        text-align: right;\n    }\n</style>\n<table border=\"1\" class=\"dataframe\">\n  <thead>\n    <tr style=\"text-align: right;\">\n      <th></th>\n      <th>Qa</th>\n      <th>Qb</th>\n      <th>Qc</th>\n      <th>Qd</th>\n      <th>Qe</th>\n      <th>Qf</th>\n      <th>Qg</th>\n      <th>Qh</th>\n      <th>Qi</th>\n      <th>Qj</th>\n      <th>Qk</th>\n      <th>Ql</th>\n      <th>Qm</th>\n      <th>Qn</th>\n      <th>Qo</th>\n      <th>target</th>\n    </tr>\n  </thead>\n  <tbody>\n    <tr>\n      <th>0</th>\n      <td>6</td>\n      <td>10</td>\n      <td>10</td>\n      <td>9</td>\n      <td>9</td>\n      <td>10</td>\n      <td>8</td>\n      <td>6</td>\n      <td>4</td>\n      <td>8</td>\n      <td>4</td>\n      <td>6</td>\n      <td>1</td>\n      <td>4</td>\n      <td>6</td>\n      <td>1</td>\n    </tr>\n    <tr>\n      <th>1</th>\n      <td>10</td>\n      <td>5</td>\n      <td>5</td>\n      <td>3</td>\n      <td>4</td>\n      <td>9</td>\n      <td>7</td>\n      <td>9</td>\n      <td>3</td>\n      <td>8</td>\n      <td>1</td>\n      <td>4</td>\n      <td>2</td>\n      <td>8</td>\n      <td>5</td>\n      <td>0</td>\n    </tr>\n    <tr>\n      <th>2</th>\n      <td>3</td>\n      <td>1</td>\n      <td>5</td>\n      <td>8</td>\n      <td>2</td>\n      <td>9</td>\n      <td>7</td>\n      <td>9</td>\n      <td>2</td>\n      <td>10</td>\n      <td>1</td>\n      <td>3</td>\n      <td>5</td>\n      <td>3</td>\n      <td>9</td>\n      <td>0</td>\n    </tr>\n    <tr>\n      <th>3</th>\n      <td>5</td>\n      <td>7</td>\n      <td>8</td>\n      <td>10</td>\n      <td>5</td>\n      <td>9</td>\n      <td>8</td>\n      <td>1</td>\n      <td>8</td>\n      <td>8</td>\n      <td>10</td>\n      <td>6</td>\n      <td>5</td>\n      <td>5</td>\n      <td>9</td>\n      <td>1</td>\n    </tr>\n    <tr>\n      <th>4</th>\n      <td>4</td>\n      <td>7</td>\n      <td>7</td>\n      <td>9</td>\n      <td>8</td>\n      <td>5</td>\n      <td>7</td>\n      <td>2</td>\n      <td>6</td>\n      <td>7</td>\n      <td>6</td>\n      <td>10</td>\n      <td>10</td>\n      <td>5</td>\n      <td>4</td>\n      <td>1</td>\n    </tr>\n  </tbody>\n</table>\n</div>"
     },
     "metadata": {},
     "execution_count": 4
    }
   ],
   "source": [
    "data.head()"
   ]
  },
  {
   "cell_type": "code",
   "execution_count": 5,
   "metadata": {},
   "outputs": [],
   "source": [
    "import sklearn\n",
    "from sklearn import preprocessing,neighbors\n",
    "from sklearn.model_selection import train_test_split"
   ]
  },
  {
   "cell_type": "code",
   "execution_count": 6,
   "metadata": {},
   "outputs": [],
   "source": [
    "X = data.drop(['target'], axis = 1)\n",
    "X = preprocessing.scale(X)\n",
    "Y = data['target']"
   ]
  },
  {
   "cell_type": "code",
   "execution_count": 7,
   "metadata": {},
   "outputs": [],
   "source": [
    "X_train,X_test,Y_train,Y_test=train_test_split(X,Y,test_size=0.3)"
   ]
  },
  {
   "cell_type": "code",
   "execution_count": 8,
   "metadata": {},
   "outputs": [],
   "source": [
    "clf = neighbors.KNeighborsClassifier(n_neighbors=9)\n",
    "clf.fit(X_train,Y_train)\n",
    "predictions=clf.predict(X_test)"
   ]
  },
  {
   "cell_type": "code",
   "execution_count": 9,
   "metadata": {},
   "outputs": [
    {
     "output_type": "execute_result",
     "data": {
      "text/plain": [
       "0.8882521489971347"
      ]
     },
     "metadata": {},
     "execution_count": 9
    }
   ],
   "source": [
    "clf.score(X_train,Y_train)"
   ]
  },
  {
   "cell_type": "code",
   "execution_count": 10,
   "metadata": {},
   "outputs": [
    {
     "output_type": "execute_result",
     "data": {
      "text/plain": [
       "10     0\n",
       "424    0\n",
       "24     0\n",
       "109    1\n",
       "438    0\n",
       "      ..\n",
       "411    0\n",
       "185    0\n",
       "224    0\n",
       "388    0\n",
       "315    0\n",
       "Name: target, Length: 150, dtype: int64"
      ]
     },
     "metadata": {},
     "execution_count": 10
    }
   ],
   "source": [
    "Y_test"
   ]
  },
  {
   "cell_type": "code",
   "execution_count": 11,
   "metadata": {},
   "outputs": [
    {
     "output_type": "execute_result",
     "data": {
      "text/plain": [
       "332    0\n",
       "261    1\n",
       "126    0\n",
       "233    0\n",
       "21     1\n",
       "      ..\n",
       "245    0\n",
       "93     0\n",
       "412    1\n",
       "152    0\n",
       "325    0\n",
       "Name: target, Length: 349, dtype: int64"
      ]
     },
     "metadata": {},
     "execution_count": 11
    }
   ],
   "source": [
    "Y_train"
   ]
  },
  {
   "cell_type": "code",
   "execution_count": 12,
   "metadata": {},
   "outputs": [
    {
     "output_type": "execute_result",
     "data": {
      "text/plain": [
       "array([[-1.62838689,  0.14132161,  0.5301247 , ...,  0.10979547,\n",
       "        -0.24151472, -0.48287685],\n",
       "       [ 0.13499214,  1.20442942, -1.20110714, ...,  1.50566657,\n",
       "         1.1847083 , -1.55379038],\n",
       "       [ 1.19301956, -0.9217862 , -0.16236804, ...,  0.80773102,\n",
       "        -1.31118198,  0.23106551],\n",
       "       ...,\n",
       "       [ 0.48766795,  1.55879869,  0.5301247 , ..., -0.93710785,\n",
       "        -1.66773773,  1.30197905],\n",
       "       [ 0.48766795, -0.56741693,  1.5688638 , ..., -1.63504339,\n",
       "        -0.24151472, -0.48287685],\n",
       "       [ 1.54569537, -1.27615546,  1.22261743, ...,  1.15669879,\n",
       "         1.54126405,  0.94500787]])"
      ]
     },
     "metadata": {},
     "execution_count": 12
    }
   ],
   "source": [
    "X_train"
   ]
  },
  {
   "cell_type": "code",
   "execution_count": 13,
   "metadata": {},
   "outputs": [],
   "source": [
    "import pickle"
   ]
  },
  {
   "cell_type": "code",
   "execution_count": 14,
   "metadata": {},
   "outputs": [],
   "source": [
    "fileobj_Filename = (\"model_pickle.pkl\")\n",
    "with open (fileobj_Filename,\"wb\") as file :\n",
    "    pickle.dump(clf,file)"
   ]
  },
  {
   "cell_type": "code",
   "execution_count": null,
   "metadata": {},
   "outputs": [],
   "source": []
  }
 ],
 "metadata": {
  "kernelspec": {
   "name": "python391jvsc74a57bd0e16b9bd33e7041c0842013505aab8d96e59e427e4e0c80436ba1b7c1f34f93b5",
   "display_name": "Python 3.9.1 64-bit"
  },
  "language_info": {
   "codemirror_mode": {
    "name": "ipython",
    "version": 3
   },
   "file_extension": ".py",
   "mimetype": "text/x-python",
   "name": "python",
   "nbconvert_exporter": "python",
   "pygments_lexer": "ipython3",
   "version": "3.9.1"
  },
  "metadata": {
   "interpreter": {
    "hash": "e16b9bd33e7041c0842013505aab8d96e59e427e4e0c80436ba1b7c1f34f93b5"
   }
  }
 },
 "nbformat": 4,
 "nbformat_minor": 4
}